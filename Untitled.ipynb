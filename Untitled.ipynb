{
 "cells": [
  {
   "cell_type": "code",
   "execution_count": 108,
   "metadata": {},
   "outputs": [],
   "source": [
    "import hashlib\n",
    "import os\n",
    "import pickle\n",
    "from zoltpy.quantile_io import json_io_dict_from_quantile_csv_file\n",
    "from zoltpy import util\n",
    "from zoltpy.connection import ZoltarConnection\n",
    "from zoltpy.covid19 import COVID_TARGETS, covid19_row_validator, validate_quantile_csv_file\n",
    "import glob\n",
    "import json\n",
    "import sys\n",
    "import pandas as pd\n",
    "import collections\n",
    "\n",
    "import logging\n",
    "logging.basicConfig(level=logging.DEBUG)\n",
    "\n",
    "UPDATE = False\n",
    "if len(sys.argv) >1:\n",
    "    if sys.argv[1].lower() == 'update':\n",
    "        print('Only updating')\n",
    "        UPDATE = True\n",
    "\n",
    "# util function to get filename from the path\n",
    "def get_filename_from_path(path):\n",
    "    print(path, path.split(os.path.sep)[-1])\n",
    "    return path.split(os.path.sep)[-1]\n",
    "\n",
    "g_db = None\n",
    "\n",
    "def get_db():\n",
    "    global g_db\n",
    "    if g_db is None:\n",
    "        g_db = json.load(open('code/zoltar_scripts/validated_file_db.json'))\n",
    "    return g_db\n",
    "\n",
    "def dump_db():\n",
    "    global g_db\n",
    "    with open('code/zoltar_scripts/validated_file_db.json', 'w') as fw:\n",
    "        json.dump(g_db, fw, indent=4)"
   ]
  },
  {
   "cell_type": "code",
   "execution_count": 2,
   "metadata": {},
   "outputs": [],
   "source": [
    "df = pd.read_csv('data-processed/UMass-MechBayes/2020-07-12-UMass-MechBayes.csv')"
   ]
  },
  {
   "cell_type": "code",
   "execution_count": 9,
   "metadata": {},
   "outputs": [
    {
     "data": {
      "text/plain": [
       "'/Users/abdulhannan/UMass/Summer/covid19-forecast-hub'"
      ]
     },
     "execution_count": 9,
     "metadata": {},
     "output_type": "execute_result"
    }
   ],
   "source": [
    "os.getcwd()"
   ]
  },
  {
   "cell_type": "code",
   "execution_count": 10,
   "metadata": {},
   "outputs": [],
   "source": [
    "\n",
    "from git import Repo\n",
    "repo = Repo.init(os.getcwd())"
   ]
  },
  {
   "cell_type": "code",
   "execution_count": 15,
   "metadata": {},
   "outputs": [],
   "source": [
    "import requests"
   ]
  },
  {
   "cell_type": "code",
   "execution_count": 16,
   "metadata": {},
   "outputs": [],
   "source": [
    "pr_files = requests.get('https://api.github.com/repos/reichlab/covid19-forecast-hub/pulls/819/files')"
   ]
  },
  {
   "cell_type": "code",
   "execution_count": 20,
   "metadata": {},
   "outputs": [],
   "source": [
    "res = json.loads(pr_files.text)"
   ]
  },
  {
   "cell_type": "code",
   "execution_count": 24,
   "metadata": {},
   "outputs": [
    {
     "name": "stdout",
     "output_type": "stream",
     "text": [
      ".github/workflows/pr_push_job.yml\n",
      ".gitignore\n",
      "code/__init__.py\n",
      "code/test/__init__.py\n",
      "code/test/data/COVIDhub-ensemble/2020-07-13-COVIDhub-ensemble.csv\n",
      "code/test/data/COVIDhub-ensemble/metadata-COVIDhub-ensemble.txt\n",
      "code/test/data/NotreDame-mobility/2020-07-06-NotreDame-mobility.csv\n",
      "code/test/data/NotreDame-mobility/2020-07-13-NotreDame-mobility.csv\n",
      "code/test/data/NotreDame-mobility/metadata-NotreDame-mobility.txt\n",
      "code/test/test_test_formatting.py\n",
      "code/test/test_upload_covid_all_forecasts.py\n",
      "code/validation/Untitled.ipynb\n",
      "code/validation/accepted-licenses.csv\n",
      "code/validation/metadata-refactor.ipynb\n",
      "code/validation/test_formatting.py\n",
      "code/zoltar_scripts/__init__.py\n",
      "code/zoltar_scripts/compare_repo_to_zoltar.py\n",
      "code/zoltar_scripts/convert_to_json.py\n",
      "code/zoltar_scripts/create_validated_files_db.py\n",
      "code/zoltar_scripts/upload_covid19_forecasts_to_zoltar.py\n",
      "code/zoltar_scripts/upload_truth_to_zoltar.py\n",
      "code/zoltar_scripts/upload_zoltar.py\n",
      "code/zoltar_scripts/validated_file_db.p\n",
      "data-processed/Auquan-SEIR/metadata-Auquan-SEIR.txt\n",
      "data-processed/CDDEP-SEIR/metadata-CDDEP-SEIR.txt\n",
      "data-processed/CDDEP-SEIR_MCMC/2020-07-05-CDDEP-SEIR_MCMC.csv\n",
      "data-processed/CDDEP-SEIR_MCMC/2020-07-12-CDDEP-SEIR_MCMC.csv\n",
      "data-processed/CDDEP-SEIR_MCMC/metadata-CDDEP-SEIR_MCMC.txt\n",
      "data-processed/COVIDhub-baseline/metadata-COVIDhub-baseline.txt\n",
      "data-processed/COVIDhub-ensemble/metadata-COVIDhub-ensemble.txt\n",
      "30\n"
     ]
    }
   ],
   "source": [
    "for file in res:\n",
    "    print(file['filename'])\n",
    "print(len(res))"
   ]
  },
  {
   "cell_type": "code",
   "execution_count": 25,
   "metadata": {},
   "outputs": [
    {
     "name": "stdout",
     "output_type": "stream",
     "text": [
      "Collecting PyGithub\n",
      "  Downloading PyGithub-1.51-py3-none-any.whl (260 kB)\n",
      "\u001b[K     |████████████████████████████████| 260 kB 2.0 MB/s eta 0:00:01\n",
      "\u001b[?25hCollecting pyjwt\n",
      "  Downloading PyJWT-1.7.1-py2.py3-none-any.whl (18 kB)\n",
      "Requirement already satisfied: requests>=2.14.0 in /Users/abdulhannan/anaconda3/envs/covid19-forecast/lib/python3.8/site-packages (from PyGithub) (2.24.0)\n",
      "Collecting deprecated\n",
      "  Downloading Deprecated-1.2.10-py2.py3-none-any.whl (8.7 kB)\n",
      "Requirement already satisfied: certifi>=2017.4.17 in /Users/abdulhannan/anaconda3/envs/covid19-forecast/lib/python3.8/site-packages (from requests>=2.14.0->PyGithub) (2020.6.20)\n",
      "Requirement already satisfied: idna<3,>=2.5 in /Users/abdulhannan/anaconda3/envs/covid19-forecast/lib/python3.8/site-packages (from requests>=2.14.0->PyGithub) (2.10)\n",
      "Requirement already satisfied: urllib3!=1.25.0,!=1.25.1,<1.26,>=1.21.1 in /Users/abdulhannan/anaconda3/envs/covid19-forecast/lib/python3.8/site-packages (from requests>=2.14.0->PyGithub) (1.25.9)\n",
      "Requirement already satisfied: chardet<4,>=3.0.2 in /Users/abdulhannan/anaconda3/envs/covid19-forecast/lib/python3.8/site-packages (from requests>=2.14.0->PyGithub) (3.0.4)\n",
      "Collecting wrapt<2,>=1.10\n",
      "  Using cached wrapt-1.12.1.tar.gz (27 kB)\n",
      "Building wheels for collected packages: wrapt\n",
      "  Building wheel for wrapt (setup.py) ... \u001b[?25ldone\n",
      "\u001b[?25h  Created wheel for wrapt: filename=wrapt-1.12.1-cp38-cp38-macosx_10_9_x86_64.whl size=32612 sha256=b706e0f3af2e72a76ee07d275908483f4f9cb02922493fe0bf0b9a896a2a7b7c\n",
      "  Stored in directory: /Users/abdulhannan/Library/Caches/pip/wheels/5f/fd/9e/b6cf5890494cb8ef0b5eaff72e5d55a70fb56316007d6dfe73\n",
      "Successfully built wrapt\n",
      "Installing collected packages: pyjwt, wrapt, deprecated, PyGithub\n",
      "Successfully installed PyGithub-1.51 deprecated-1.2.10 pyjwt-1.7.1 wrapt-1.12.1\n"
     ]
    }
   ],
   "source": [
    "! pip3 install PyGithub"
   ]
  },
  {
   "cell_type": "code",
   "execution_count": 27,
   "metadata": {},
   "outputs": [],
   "source": [
    "from github import Github\n",
    "g = Github()"
   ]
  },
  {
   "cell_type": "code",
   "execution_count": 30,
   "metadata": {},
   "outputs": [],
   "source": [
    "repo  = g.get_repo('reichlab/covid19-forecast-hub')"
   ]
  },
  {
   "cell_type": "code",
   "execution_count": 33,
   "metadata": {},
   "outputs": [],
   "source": [
    "pr = repo.get_pull(819)"
   ]
  },
  {
   "cell_type": "code",
   "execution_count": 42,
   "metadata": {},
   "outputs": [
    {
     "data": {
      "text/plain": [
       "['data-processed/CDDEP-SEIR_MCMC/2020-07-05-CDDEP-SEIR_MCMC.csv',\n",
       " 'data-processed/CDDEP-SEIR_MCMC/2020-07-12-CDDEP-SEIR_MCMC.csv',\n",
       " 'data-processed/CovidAnalytics-DELPHI/2020-04-27-CovidAnalytics-DELPHI.csv',\n",
       " 'data-processed/CovidAnalytics-DELPHI/2020-04-30-CovidAnalytics-DELPHI.csv',\n",
       " 'data-processed/CovidAnalytics-DELPHI/2020-05-04-CovidAnalytics-DELPHI.csv',\n",
       " 'data-processed/CovidAnalytics-DELPHI/2020-05-10-CovidAnalytics-DELPHI.csv',\n",
       " 'data-processed/CovidAnalytics-DELPHI/2020-05-18-CovidAnalytics-DELPHI.csv',\n",
       " 'data-processed/CovidAnalytics-DELPHI/2020-05-25-CovidAnalytics-DELPHI.csv',\n",
       " 'data-processed/CovidAnalytics-DELPHI/2020-06-01-CovidAnalytics-DELPHI.csv',\n",
       " 'data-processed/CovidAnalytics-DELPHI/2020-06-08-CovidAnalytics-DELPHI.csv',\n",
       " 'data-processed/CovidAnalytics-DELPHI/2020-06-15-CovidAnalytics-DELPHI.csv',\n",
       " 'data-processed/CovidAnalytics-DELPHI/2020-06-22-CovidAnalytics-DELPHI.csv',\n",
       " 'data-processed/CovidAnalytics-DELPHI/2020-06-29-CovidAnalytics-DELPHI.csv',\n",
       " 'data-processed/CovidAnalytics-DELPHI/2020-07-06-CovidAnalytics-DELPHI.csv',\n",
       " 'data-processed/CovidAnalytics-DELPHI/2020-07-13-CovidAnalytics-DELPHI.csv',\n",
       " 'data-processed/LNQ-ens1/2020-07-12-LNQ-ens1.csv',\n",
       " 'data-processed/MITCovAlliance-SIR/2020-06-18-MITCovAlliance-SIR.csv',\n",
       " 'data-processed/MITCovAlliance-SIR/2020-06-28-MITCovAlliance-SIR.csv',\n",
       " 'data-processed/MITCovAlliance-SIR/2020-07-05-MITCovAlliance-SIR.csv',\n",
       " 'data-processed/MITCovAlliance-SIR/2020-07-12-MITCovAlliance-SIR.csv',\n",
       " 'data-processed/MOBS-GLEAM_COVID/2020-04-13-MOBS-GLEAM_COVID.csv',\n",
       " 'data-processed/MOBS-GLEAM_COVID/2020-04-20-MOBS-GLEAM_COVID.csv',\n",
       " 'data-processed/MOBS-GLEAM_COVID/2020-04-27-MOBS-GLEAM_COVID.csv',\n",
       " 'data-processed/MOBS-GLEAM_COVID/2020-05-04-MOBS-GLEAM_COVID.csv',\n",
       " 'data-processed/MOBS-GLEAM_COVID/2020-05-11-MOBS-GLEAM_COVID.csv',\n",
       " 'data-processed/MOBS-GLEAM_COVID/2020-05-18-MOBS-GLEAM_COVID.csv',\n",
       " 'data-processed/MOBS-GLEAM_COVID/2020-05-25-MOBS-GLEAM_COVID.csv',\n",
       " 'data-processed/MOBS-GLEAM_COVID/2020-06-01-MOBS-GLEAM_COVID.csv',\n",
       " 'data-processed/MOBS-GLEAM_COVID/2020-06-08-MOBS-GLEAM_COVID.csv',\n",
       " 'data-processed/MOBS-GLEAM_COVID/2020-06-15-MOBS-GLEAM_COVID.csv',\n",
       " 'data-processed/MOBS-GLEAM_COVID/2020-06-22-MOBS-GLEAM_COVID.csv',\n",
       " 'data-processed/MOBS-GLEAM_COVID/2020-06-29-MOBS-GLEAM_COVID.csv',\n",
       " 'data-processed/MOBS-GLEAM_COVID/2020-07-06-MOBS-GLEAM_COVID.csv',\n",
       " 'data-processed/MOBS-GLEAM_COVID/2020-07-13-MOBS-GLEAM_COVID.csv',\n",
       " 'data-processed/UChicago-CovidIL_10_+/2020-05-18-UChicago-CovidIL_10_+.csv',\n",
       " 'data-processed/UChicago-CovidIL_30_+/2020-05-18-UChicago-CovidIL_30_+.csv',\n",
       " 'data-processed/UMich-RidgeTfReg/2020-07-06-UMich-RidgeTfReg.csv',\n",
       " 'data-processed/UMich-RidgeTfReg/2020-07-12-UMich-RidgeTfReg.csv']"
      ]
     },
     "execution_count": 42,
     "metadata": {},
     "output_type": "execute_result"
    }
   ],
   "source": [
    "[\n",
    "    file.filename for file in pr.get_files() if file.filename.startswith('data-processed') and file.filename.endswith('.csv')\n",
    "]"
   ]
  },
  {
   "cell_type": "code",
   "execution_count": 44,
   "metadata": {},
   "outputs": [],
   "source": [
    "df= pd.read_csv('./code/validation/validated_files.csv')"
   ]
  },
  {
   "cell_type": "code",
   "execution_count": 51,
   "metadata": {},
   "outputs": [
    {
     "ename": "ValueError",
     "evalue": "The truth value of a Series is ambiguous. Use a.empty, a.bool(), a.item(), a.any() or a.all().",
     "output_type": "error",
     "traceback": [
      "\u001b[0;31m---------------------------------------------------------------------------\u001b[0m",
      "\u001b[0;31mValueError\u001b[0m                                Traceback (most recent call last)",
      "\u001b[0;32m<ipython-input-51-7ddbc4629523>\u001b[0m in \u001b[0;36m<module>\u001b[0;34m\u001b[0m\n\u001b[0;32m----> 1\u001b[0;31m \u001b[0mdf_f\u001b[0m \u001b[0;34m=\u001b[0m \u001b[0mdf\u001b[0m\u001b[0;34m[\u001b[0m\u001b[0mdf\u001b[0m\u001b[0;34m.\u001b[0m\u001b[0mfile_path\u001b[0m \u001b[0;32mnot\u001b[0m \u001b[0;32min\u001b[0m  \u001b[0;34m[\u001b[0m\u001b[0;34m'data-processed/UMich-RidgeTfReg/2020-07-06-UMich-RidgeTfReg.csv'\u001b[0m\u001b[0;34m,\u001b[0m\u001b[0;34m'data-processed/UMich-RidgeTfReg/2020-07-12-UMich-RidgeTfReg.csv'\u001b[0m\u001b[0;34m]\u001b[0m\u001b[0;34m]\u001b[0m\u001b[0;34m\u001b[0m\u001b[0;34m\u001b[0m\u001b[0m\n\u001b[0m",
      "\u001b[0;32m~/anaconda3/envs/covid19-forecast/lib/python3.8/site-packages/pandas/core/generic.py\u001b[0m in \u001b[0;36m__nonzero__\u001b[0;34m(self)\u001b[0m\n\u001b[1;32m   1476\u001b[0m \u001b[0;34m\u001b[0m\u001b[0m\n\u001b[1;32m   1477\u001b[0m     \u001b[0;32mdef\u001b[0m \u001b[0m__nonzero__\u001b[0m\u001b[0;34m(\u001b[0m\u001b[0mself\u001b[0m\u001b[0;34m)\u001b[0m\u001b[0;34m:\u001b[0m\u001b[0;34m\u001b[0m\u001b[0;34m\u001b[0m\u001b[0m\n\u001b[0;32m-> 1478\u001b[0;31m         raise ValueError(\n\u001b[0m\u001b[1;32m   1479\u001b[0m             \u001b[0;34mf\"The truth value of a {type(self).__name__} is ambiguous. \"\u001b[0m\u001b[0;34m\u001b[0m\u001b[0;34m\u001b[0m\u001b[0m\n\u001b[1;32m   1480\u001b[0m             \u001b[0;34m\"Use a.empty, a.bool(), a.item(), a.any() or a.all().\"\u001b[0m\u001b[0;34m\u001b[0m\u001b[0;34m\u001b[0m\u001b[0m\n",
      "\u001b[0;31mValueError\u001b[0m: The truth value of a Series is ambiguous. Use a.empty, a.bool(), a.item(), a.any() or a.all()."
     ]
    }
   ],
   "source": [
    "df_f = df\n",
    "for \n",
    "df_f = df[df.file_path != './data-processed/OliverWyman-Navigator/2020-06-14-OliverWyman-Navigator.csv']"
   ]
  },
  {
   "cell_type": "code",
   "execution_count": 50,
   "metadata": {},
   "outputs": [
    {
     "data": {
      "text/html": [
       "<div>\n",
       "<style scoped>\n",
       "    .dataframe tbody tr th:only-of-type {\n",
       "        vertical-align: middle;\n",
       "    }\n",
       "\n",
       "    .dataframe tbody tr th {\n",
       "        vertical-align: top;\n",
       "    }\n",
       "\n",
       "    .dataframe thead th {\n",
       "        text-align: right;\n",
       "    }\n",
       "</style>\n",
       "<table border=\"1\" class=\"dataframe\">\n",
       "  <thead>\n",
       "    <tr style=\"text-align: right;\">\n",
       "      <th></th>\n",
       "      <th>file_path</th>\n",
       "      <th>validation_date</th>\n",
       "    </tr>\n",
       "  </thead>\n",
       "  <tbody>\n",
       "    <tr>\n",
       "      <th>1</th>\n",
       "      <td>./data-processed/OliverWyman-Navigator/2020-06...</td>\n",
       "      <td>2020-07-06 18:46:13.540527</td>\n",
       "    </tr>\n",
       "    <tr>\n",
       "      <th>2</th>\n",
       "      <td>./data-processed/OliverWyman-Navigator/2020-06...</td>\n",
       "      <td>2020-07-06 18:46:14.153955</td>\n",
       "    </tr>\n",
       "    <tr>\n",
       "      <th>3</th>\n",
       "      <td>./data-processed/OliverWyman-Navigator/2020-06...</td>\n",
       "      <td>2020-07-06 18:46:14.776641</td>\n",
       "    </tr>\n",
       "    <tr>\n",
       "      <th>4</th>\n",
       "      <td>./data-processed/SWC-TerminusCM/2020-05-29-SWC...</td>\n",
       "      <td>2020-07-06 18:46:15.220134</td>\n",
       "    </tr>\n",
       "    <tr>\n",
       "      <th>5</th>\n",
       "      <td>./data-processed/SWC-TerminusCM/2020-06-29-SWC...</td>\n",
       "      <td>2020-07-06 18:46:16.290801</td>\n",
       "    </tr>\n",
       "    <tr>\n",
       "      <th>...</th>\n",
       "      <td>...</td>\n",
       "      <td>...</td>\n",
       "    </tr>\n",
       "    <tr>\n",
       "      <th>606</th>\n",
       "      <td>./data-processed/LNQ-ens1/2020-07-12-LNQ-ens1.csv</td>\n",
       "      <td>2020-07-15 22:15:12.779676</td>\n",
       "    </tr>\n",
       "    <tr>\n",
       "      <th>607</th>\n",
       "      <td>./data-processed/MITCovAlliance-SIR/2020-06-28...</td>\n",
       "      <td>2020-07-15 22:15:13.792040</td>\n",
       "    </tr>\n",
       "    <tr>\n",
       "      <th>608</th>\n",
       "      <td>./data-processed/MITCovAlliance-SIR/2020-07-12...</td>\n",
       "      <td>2020-07-15 22:15:20.857132</td>\n",
       "    </tr>\n",
       "    <tr>\n",
       "      <th>609</th>\n",
       "      <td>./data-processed/MITCovAlliance-SIR/2020-06-18...</td>\n",
       "      <td>2020-07-15 22:15:21.599102</td>\n",
       "    </tr>\n",
       "    <tr>\n",
       "      <th>610</th>\n",
       "      <td>./data-processed/MITCovAlliance-SIR/2020-07-05...</td>\n",
       "      <td>2020-07-15 22:15:28.210903</td>\n",
       "    </tr>\n",
       "  </tbody>\n",
       "</table>\n",
       "<p>610 rows × 2 columns</p>\n",
       "</div>"
      ],
      "text/plain": [
       "                                             file_path  \\\n",
       "1    ./data-processed/OliverWyman-Navigator/2020-06...   \n",
       "2    ./data-processed/OliverWyman-Navigator/2020-06...   \n",
       "3    ./data-processed/OliverWyman-Navigator/2020-06...   \n",
       "4    ./data-processed/SWC-TerminusCM/2020-05-29-SWC...   \n",
       "5    ./data-processed/SWC-TerminusCM/2020-06-29-SWC...   \n",
       "..                                                 ...   \n",
       "606  ./data-processed/LNQ-ens1/2020-07-12-LNQ-ens1.csv   \n",
       "607  ./data-processed/MITCovAlliance-SIR/2020-06-28...   \n",
       "608  ./data-processed/MITCovAlliance-SIR/2020-07-12...   \n",
       "609  ./data-processed/MITCovAlliance-SIR/2020-06-18...   \n",
       "610  ./data-processed/MITCovAlliance-SIR/2020-07-05...   \n",
       "\n",
       "                validation_date  \n",
       "1    2020-07-06 18:46:13.540527  \n",
       "2    2020-07-06 18:46:14.153955  \n",
       "3    2020-07-06 18:46:14.776641  \n",
       "4    2020-07-06 18:46:15.220134  \n",
       "5    2020-07-06 18:46:16.290801  \n",
       "..                          ...  \n",
       "606  2020-07-15 22:15:12.779676  \n",
       "607  2020-07-15 22:15:13.792040  \n",
       "608  2020-07-15 22:15:20.857132  \n",
       "609  2020-07-15 22:15:21.599102  \n",
       "610  2020-07-15 22:15:28.210903  \n",
       "\n",
       "[610 rows x 2 columns]"
      ]
     },
     "execution_count": 50,
     "metadata": {},
     "output_type": "execute_result"
    }
   ],
   "source": [
    "df_f"
   ]
  },
  {
   "cell_type": "code",
   "execution_count": 54,
   "metadata": {},
   "outputs": [],
   "source": [
    "from zoltpy import util\n",
    "from zoltpy.covid19 import COVID_TARGETS, COVID_ADDL_REQ_COLS, covid19_row_validator, validate_quantile_csv_file\n",
    "import yaml"
   ]
  },
  {
   "cell_type": "code",
   "execution_count": 89,
   "metadata": {},
   "outputs": [],
   "source": [
    "metadatas = [(file, yaml.load(open(file), Loader=yaml.BaseLoader)) for file in glob.glob('data-processed/**/metadata-*.txt')]"
   ]
  },
  {
   "cell_type": "code",
   "execution_count": 94,
   "metadata": {},
   "outputs": [
    {
     "name": "stdout",
     "output_type": "stream",
     "text": [
      "Reordered file: \t data-processed/OliverWyman-Navigator/metadata-OliverWyman-Navigator.txt\n",
      "Reordered file: \t data-processed/CU-nochange/metadata-CU-nochange.txt\n",
      "Reordered file: \t data-processed/RobertWalraven-ESG/metadata-RobertWalraven-ESG.txt\n",
      "Reordered file: \t data-processed/Covid19Sim-Simulator/metadata-Covid19Sim-Simulator.txt\n",
      "Reordered file: \t data-processed/CovidAnalytics-DELPHI/metadata-CovidAnalytics-DELPHI.txt\n",
      "Reordered file: \t data-processed/MOBS-GLEAM_COVID/metadata-MOBS-GLEAM_COVID.txt\n",
      "Reordered file: \t data-processed/CovidActNow-SEIR_CAN/metadata-CovidActNow-SEIR_CAN.txt\n",
      "Reordered file: \t data-processed/CDDEP-SEIR_MCMC/metadata-CDDEP-SEIR_MCMC.txt\n",
      "Reordered file: \t data-processed/LNQ-ens1/metadata-LNQ-ens1.txt\n",
      "Reordered file: \t data-processed/GT-DeepCOVID/metadata-GT-DeepCOVID.txt\n",
      "Reordered file: \t data-processed/CU-scenario_mid/metadata-CU-scenario_mid.txt\n",
      "Reordered file: \t data-processed/Geneva-DetGrowth/metadata-Geneva-DetGrowth.txt\n",
      "Reordered file: \t data-processed/USACE-ERDC_SEIR/metadata-USACE-ERDC_SEIR.txt\n",
      "Reordered file: \t data-processed/NotreDame-FRED/metadata-NotreDame-FRED.txt\n",
      "Reordered file: \t data-processed/UChicago-CovidIL_30_+/metadata-UChicago-CovidIL_30_+.txt\n",
      "Reordered file: \t data-processed/NotreDame-mobility/metadata-NotreDame-mobility.txt\n",
      "Reordered file: \t data-processed/Imperial-ensemble1/metadata-Imperial-ensemble1.txt\n",
      "Reordered file: \t data-processed/Auquan-SEIR/metadata-Auquan-SEIR.txt\n",
      "Reordered file: \t data-processed/STH-3PU/metadata-STH-3PU.txt\n",
      "Reordered file: \t data-processed/LANL-GrowthRate/metadata-LANL-GrowthRate.txt\n",
      "Reordered file: \t data-processed/SWC-TerminusCM/metadata-SWC-TerminusCM.txt\n",
      "Reordered file: \t data-processed/UChicago-CovidIL_40/metadata-UChicago-CovidIL_40.txt\n",
      "Reordered file: \t data-processed/CU-scenario_low/metadata-CU-scenario_low.txt\n",
      "Reordered file: \t data-processed/UA-EpiCovDA/metadata-UA-EpiCovDA.txt\n",
      "Reordered file: \t data-processed/QJHong-Encounter/metadata-QJHong-Encounter.txt\n",
      "Reordered file: \t data-processed/Columbia_UNC-SurvCon/metadata-Columbia_UNC-SurvCon.txt\n",
      "Reordered file: \t data-processed/UT-Mobility/metadata-UT-Mobility.txt\n",
      "Reordered file: \t data-processed/Quantori-Multiagents/metadata-Quantori-Multiagents.txt\n",
      "Reordered file: \t data-processed/JHU_IDD-CovidSP/metadata-JHU_IDD-CovidSP.txt\n",
      "Reordered file: \t data-processed/UCLA-SuEIR/metadata-UCLA-SuEIR.txt\n",
      "Reordered file: \t data-processed/CU-scenario_high/metadata-CU-scenario_high.txt\n",
      "Reordered file: \t data-processed/YYG-ParamSearch/metadata-YYG-ParamSearch.txt\n",
      "Reordered file: \t data-processed/IowaStateLW-STEM/metadata-IowaStateLW-STEM.txt\n",
      "Reordered file: \t data-processed/UChicago-CovidIL_10_+/metadata-UChicago-CovidIL_10_+.txt\n",
      "Reordered file: \t data-processed/UMass-ExpertCrowd/metadata-UMass-ExpertCrowd.txt\n",
      "Reordered file: \t data-processed/MITCovAlliance-SIR/metadata-MITCovAlliance-SIR.txt\n",
      "Reordered file: \t data-processed/COVIDhub-ensemble/metadata-COVIDhub-ensemble.txt\n",
      "Reordered file: \t data-processed/USC-SI_kJalpha/metadata-USC-SI_kJalpha.txt\n",
      "Reordered file: \t data-processed/ISUandPKU-vSEIdR/metadata-ISUandPKU-vSEIdR.txt\n",
      "Reordered file: \t data-processed/UChicago-CovidIL_100/metadata-UChicago-CovidIL_100.txt\n",
      "Reordered file: \t data-processed/UChicago-CovidIL_60/metadata-UChicago-CovidIL_60.txt\n",
      "Reordered file: \t data-processed/UMich-RidgeTfReg/metadata-UMich-RidgeTfReg.txt\n",
      "Reordered file: \t data-processed/UMass-MechBayes/metadata-UMass-MechBayes.txt\n",
      "Reordered file: \t data-processed/UChicago-CovidIL_80/metadata-UChicago-CovidIL_80.txt\n",
      "Reordered file: \t data-processed/epiforecasts-ensemble1/metadata-epiforecasts-ensemble1.txt\n",
      "Reordered file: \t data-processed/COVIDhub-baseline/metadata-COVIDhub-baseline.txt\n",
      "Reordered file: \t data-processed/IHME-CurveFit/metadata-IHME-CurveFit.txt\n",
      "Reordered file: \t data-processed/UChicago-CovidIL/metadata-UChicago-CovidIL.txt\n",
      "Reordered file: \t data-processed/Imperial-ensemble2/metadata-Imperial-ensemble2.txt\n",
      "Reordered file: \t data-processed/GT_CHHS-COVID19/metadata-GT_CHHS-COVID19.txt\n",
      "Reordered file: \t data-processed/CU-select/metadata-CU-select.txt\n",
      "Reordered file: \t data-processed/PSI-DRAFT/metadata-PSI-DRAFT.txt\n",
      "Reformatted 52 metadata files\n"
     ]
    }
   ],
   "source": [
    "desired_order_list = ['team_name', 'team_abbr', 'model_name', 'model_abbr', 'model_contributors', 'website_url',\n",
    "                      'license', 'team_model_designation', 'methods', 'institional_affil', 'team_funding', 'repo_url',\n",
    "                      'twitter_handles', 'data_inputs', 'this_model_is_an_ensemble', 'citation', 'methods_long'\n",
    "                     ]\n",
    "reordered_dict = {k: metadatas[0][1][k] for k in desired_order_list if k in metadatas[0][1]}\n",
    "# print(reordered_dict)\n",
    "# print()\n",
    "# print(metadatas[0])\n",
    "for file, m in metadatas:\n",
    "#     print(m)\n",
    "#     print()\n",
    "    reordered_dict = {k: m[k] for k in desired_order_list if k in m}\n",
    "#     print(reordered_dict)\n",
    "#     print(file)\n",
    "    yaml.dump(reordered_dict, open(file, \"w\"), default_flow_style=False, sort_keys=False)\n",
    "    print(f\"Reordered file: \\t {file}\")\n",
    "print(f\"Reformatted {len(metadatas)} metadata files\")"
   ]
  },
  {
   "cell_type": "code",
   "execution_count": 2,
   "metadata": {},
   "outputs": [
    {
     "name": "stdout",
     "output_type": "stream",
     "text": [
      "Setting source 2020-06-29-MIT_CovidAnalytics-DELPHI.csv to 2020-06-29-CovidAnalytics-DELPHI.csv\n"
     ]
    },
    {
     "ename": "RuntimeError",
     "evalue": "set_source(): status code was not 200. status_code=403. text={\"detail\":\"You do not have permission to perform this action.\"}",
     "output_type": "error",
     "traceback": [
      "\u001b[0;31m---------------------------------------------------------------------------\u001b[0m",
      "\u001b[0;31mRuntimeError\u001b[0m                              Traceback (most recent call last)",
      "\u001b[0;32m<ipython-input-2-7c2186135930>\u001b[0m in \u001b[0;36m<module>\u001b[0;34m\u001b[0m\n\u001b[1;32m     50\u001b[0m         \u001b[0;32mif\u001b[0m \u001b[0mforecast\u001b[0m\u001b[0;34m.\u001b[0m\u001b[0msource\u001b[0m \u001b[0;32min\u001b[0m \u001b[0mf_map\u001b[0m\u001b[0;34m:\u001b[0m\u001b[0;34m\u001b[0m\u001b[0;34m\u001b[0m\u001b[0m\n\u001b[1;32m     51\u001b[0m             \u001b[0mprint\u001b[0m\u001b[0;34m(\u001b[0m\u001b[0;34mf\"Setting source {forecast.source} to {f_map[forecast.source]}\"\u001b[0m\u001b[0;34m)\u001b[0m\u001b[0;34m\u001b[0m\u001b[0;34m\u001b[0m\u001b[0m\n\u001b[0;32m---> 52\u001b[0;31m             \u001b[0mforecast\u001b[0m\u001b[0;34m.\u001b[0m\u001b[0msource\u001b[0m \u001b[0;34m=\u001b[0m \u001b[0mf_map\u001b[0m\u001b[0;34m[\u001b[0m\u001b[0mforecast\u001b[0m\u001b[0;34m.\u001b[0m\u001b[0msource\u001b[0m\u001b[0;34m]\u001b[0m\u001b[0;34m\u001b[0m\u001b[0;34m\u001b[0m\u001b[0m\n\u001b[0m\u001b[1;32m     53\u001b[0m             \u001b[0mcount\u001b[0m\u001b[0;34m+=\u001b[0m\u001b[0;36m1\u001b[0m\u001b[0;34m\u001b[0m\u001b[0;34m\u001b[0m\u001b[0m\n\u001b[1;32m     54\u001b[0m \u001b[0mprint\u001b[0m\u001b[0;34m(\u001b[0m\u001b[0;34mf\"Renamed {count} number of models\"\u001b[0m\u001b[0;34m)\u001b[0m\u001b[0;34m\u001b[0m\u001b[0;34m\u001b[0m\u001b[0m\n",
      "\u001b[0;32m~/anaconda3/envs/covid19-forecast/lib/python3.8/site-packages/zoltpy/connection.py\u001b[0m in \u001b[0;36msource\u001b[0;34m(self, source)\u001b[0m\n\u001b[1;32m    621\u001b[0m                                 json={'source': source})\n\u001b[1;32m    622\u001b[0m         \u001b[0;32mif\u001b[0m \u001b[0mresponse\u001b[0m\u001b[0;34m.\u001b[0m\u001b[0mstatus_code\u001b[0m \u001b[0;34m!=\u001b[0m \u001b[0;36m200\u001b[0m\u001b[0;34m:\u001b[0m  \u001b[0;31m# HTTP_200_OK\u001b[0m\u001b[0;34m\u001b[0m\u001b[0;34m\u001b[0m\u001b[0m\n\u001b[0;32m--> 623\u001b[0;31m             raise RuntimeError(f\"set_source(): status code was not 200. status_code={response.status_code}. \"\n\u001b[0m\u001b[1;32m    624\u001b[0m                                f\"text={response.text}\")\n\u001b[1;32m    625\u001b[0m \u001b[0;34m\u001b[0m\u001b[0m\n",
      "\u001b[0;31mRuntimeError\u001b[0m: set_source(): status code was not 200. status_code=403. text={\"detail\":\"You do not have permission to perform this action.\"}"
     ]
    }
   ],
   "source": [
    "f_map = {\n",
    "    '2020-05-04-MIT_CovidAnalytics-DELPHI.csv':'2020-05-04-CovidAnalytics-DELPHI.csv',\n",
    "'2020-06-22-MIT_CovidAnalytics-DELPHI.csv':'2020-06-22-CovidAnalytics-DELPHI.csv',\n",
    "'2020-05-25-MIT_CovidAnalytics-DELPHI.csv':'2020-05-25-CovidAnalytics-DELPHI.csv',\n",
    "'2020-06-01-MIT_CovidAnalytics-DELPHI.csv':'2020-06-01-CovidAnalytics-DELPHI.csv',\n",
    "'2020-07-06-MIT_CovidAnalytics-DELPHI.csv':'2020-07-06-CovidAnalytics-DELPHI.csv',\n",
    "'2020-04-27-MIT_CovidAnalytics-DELPHI.csv':'2020-04-27-CovidAnalytics-DELPHI.csv',\n",
    "'2020-06-29-MIT_CovidAnalytics-DELPHI.csv':'2020-06-29-CovidAnalytics-DELPHI.csv',\n",
    "'2020-07-13-MIT_CovidAnalytics-DELPHI.csv':'2020-07-13-CovidAnalytics-DELPHI.csv',\n",
    "'2020-06-08-MIT_CovidAnalytics-DELPHI.csv':'2020-06-08-CovidAnalytics-DELPHI.csv',\n",
    "'2020-06-15-MIT_CovidAnalytics-DELPHI.csv':'2020-06-15-CovidAnalytics-DELPHI.csv',\n",
    "'2020-04-30-MIT_CovidAnalytics-DELPHI.csv':'2020-04-30-CovidAnalytics-DELPHI.csv',\n",
    "'2020-05-18-MIT_CovidAnalytics-DELPHI.csv':'2020-05-18-CovidAnalytics-DELPHI.csv',\n",
    "'2020-05-10-MIT_CovidAnalytics-DELPHI.csv':'2020-05-10-CovidAnalytics-DELPHI.csv',\n",
    "'2020-07-12-LockNQuay-ens1.csv':'2020-07-12-LNQ-ens1.csv',\n",
    "'2020-05-18-UChicago-CovidIL_30_increase.csv':'2020-05-18-UChicago-CovidIL_30_+.csv',\n",
    "'2020-07-12-MIT_CovAlliance-SIR.csv':'2020-07-12-MITCovAlliance-SIR.csv',\n",
    "'2020-06-18-MIT_CovAlliance-SIR.csv':'2020-06-18-MITCovAlliance-SIR.csv',\n",
    "'2020-07-05-MIT_CovAlliance-SIR.csv':'2020-07-05-MITCovAlliance-SIR.csv',\n",
    "'2020-06-28-MIT_CovAlliance-SIR.csv':'2020-06-28-MITCovAlliance-SIR.csv',\n",
    "}\n",
    "\n",
    "from zoltpy.quantile_io import json_io_dict_from_quantile_csv_file\n",
    "from zoltpy import util\n",
    "from zoltpy.connection import ZoltarConnection\n",
    "from zoltpy.covid19 import COVID_TARGETS, COVID_ADDL_REQ_COLS, covid19_row_validator, validate_quantile_csv_file\n",
    "import os\n",
    "import sys\n",
    "\n",
    "# meta info\n",
    "project_name = 'COVID-19 Forecasts'\n",
    "project_obj = None\n",
    "project_timezeros = []\n",
    "conn = util.authenticate()\n",
    "url = 'https://github.com/reichlab/covid19-forecast-hub/tree/master/data-processed/'\n",
    "\n",
    "project_obj = [project for project in conn.projects if project.name == project_name][0]\n",
    "project_timezeros = [timezero.timezero_date for timezero in project_obj.timezeros]\n",
    "models = [model for model in project_obj.models]\n",
    "model_names = [model.name for model in models]\n",
    "zoltar_forecasts = []\n",
    "repo_forecasts = []\n",
    "for model in models:\n",
    "    existing_forecasts = [forecast.source for forecast in model.forecasts]\n",
    "    zoltar_forecasts.extend(existing_forecasts)\n",
    "\n",
    "count = 0\n",
    "for model in models:\n",
    "    for forecast in model.forecasts:\n",
    "        if forecast.source in f_map:\n",
    "            print(f\"Setting source {forecast.source} to {f_map[forecast.source]}\")\n",
    "            forecast.source = f_map[forecast.source]\n",
    "            count+=1\n",
    "print(f\"Renamed {count} number of models\")"
   ]
  },
  {
   "cell_type": "code",
   "execution_count": 4,
   "metadata": {},
   "outputs": [
    {
     "ename": "RuntimeError",
     "evalue": "set_source(): status code was not 200. status_code=403. text={\"detail\":\"You do not have permission to perform this action.\"}",
     "output_type": "error",
     "traceback": [
      "\u001b[0;31m---------------------------------------------------------------------------\u001b[0m",
      "\u001b[0;31mRuntimeError\u001b[0m                              Traceback (most recent call last)",
      "\u001b[0;32m<ipython-input-4-d409d785c66d>\u001b[0m in \u001b[0;36m<module>\u001b[0;34m\u001b[0m\n\u001b[1;32m      7\u001b[0m \u001b[0mmodel\u001b[0m \u001b[0;34m=\u001b[0m \u001b[0;34m[\u001b[0m\u001b[0mmodel\u001b[0m \u001b[0;32mfor\u001b[0m \u001b[0mmodel\u001b[0m \u001b[0;32min\u001b[0m \u001b[0mproject\u001b[0m\u001b[0;34m.\u001b[0m\u001b[0mmodels\u001b[0m \u001b[0;32mif\u001b[0m \u001b[0mmodel\u001b[0m\u001b[0;34m.\u001b[0m\u001b[0mname\u001b[0m \u001b[0;34m==\u001b[0m \u001b[0;34m'Test ForecastModel1 (public)'\u001b[0m\u001b[0;34m]\u001b[0m\u001b[0;34m[\u001b[0m\u001b[0;36m0\u001b[0m\u001b[0;34m]\u001b[0m\u001b[0;34m\u001b[0m\u001b[0;34m\u001b[0m\u001b[0m\n\u001b[1;32m      8\u001b[0m \u001b[0mforecast\u001b[0m \u001b[0;34m=\u001b[0m \u001b[0;34m[\u001b[0m\u001b[0mforecast\u001b[0m \u001b[0;32mfor\u001b[0m \u001b[0mforecast\u001b[0m \u001b[0;32min\u001b[0m \u001b[0mmodel\u001b[0m\u001b[0;34m.\u001b[0m\u001b[0mforecasts\u001b[0m \u001b[0;32mif\u001b[0m \u001b[0mforecast\u001b[0m\u001b[0;34m.\u001b[0m\u001b[0msource\u001b[0m \u001b[0;34m==\u001b[0m \u001b[0;34m'EW1-KoTsarima-2017-01-17-small.csv(1).json'\u001b[0m\u001b[0;34m]\u001b[0m\u001b[0;34m[\u001b[0m\u001b[0;36m0\u001b[0m\u001b[0;34m]\u001b[0m\u001b[0;34m\u001b[0m\u001b[0;34m\u001b[0m\u001b[0m\n\u001b[0;32m----> 9\u001b[0;31m \u001b[0mforecast\u001b[0m\u001b[0;34m.\u001b[0m\u001b[0msource\u001b[0m \u001b[0;34m=\u001b[0m \u001b[0;34m'new source'\u001b[0m\u001b[0;34m\u001b[0m\u001b[0;34m\u001b[0m\u001b[0m\n\u001b[0m",
      "\u001b[0;32m~/anaconda3/envs/covid19-forecast/lib/python3.8/site-packages/zoltpy/connection.py\u001b[0m in \u001b[0;36msource\u001b[0;34m(self, source)\u001b[0m\n\u001b[1;32m    621\u001b[0m                                 json={'source': source})\n\u001b[1;32m    622\u001b[0m         \u001b[0;32mif\u001b[0m \u001b[0mresponse\u001b[0m\u001b[0;34m.\u001b[0m\u001b[0mstatus_code\u001b[0m \u001b[0;34m!=\u001b[0m \u001b[0;36m200\u001b[0m\u001b[0;34m:\u001b[0m  \u001b[0;31m# HTTP_200_OK\u001b[0m\u001b[0;34m\u001b[0m\u001b[0;34m\u001b[0m\u001b[0m\n\u001b[0;32m--> 623\u001b[0;31m             raise RuntimeError(f\"set_source(): status code was not 200. status_code={response.status_code}. \"\n\u001b[0m\u001b[1;32m    624\u001b[0m                                f\"text={response.text}\")\n\u001b[1;32m    625\u001b[0m \u001b[0;34m\u001b[0m\u001b[0m\n",
      "\u001b[0;31mRuntimeError\u001b[0m: set_source(): status code was not 200. status_code=403. text={\"detail\":\"You do not have permission to perform this action.\"}"
     ]
    }
   ],
   "source": [
    "host = 'https://rl-zoltar-staging.herokuapp.com'\n",
    "username = os.environ.get('Z_USERNAME')\n",
    "password = os.environ.get('Z_PASSWORD')\n",
    "conn = ZoltarConnection(host)\n",
    "conn.authenticate(username, password)\n",
    "project = [project for project in conn.projects if project.name == 'public project'][0]\n",
    "model = [model for model in project.models if model.name == 'Test ForecastModel1 (public)'][0]\n",
    "forecast = [forecast for forecast in model.forecasts if forecast.source == 'EW1-KoTsarima-2017-01-17-small.csv(1).json'][0]\n",
    "forecast.source = 'new source'"
   ]
  },
  {
   "cell_type": "code",
   "execution_count": null,
   "metadata": {},
   "outputs": [],
   "source": []
  }
 ],
 "metadata": {
  "kernelspec": {
   "display_name": "Python 3",
   "language": "python",
   "name": "python3"
  },
  "language_info": {
   "codemirror_mode": {
    "name": "ipython",
    "version": 3
   },
   "file_extension": ".py",
   "mimetype": "text/x-python",
   "name": "python",
   "nbconvert_exporter": "python",
   "pygments_lexer": "ipython3",
   "version": "3.8.3"
  }
 },
 "nbformat": 4,
 "nbformat_minor": 4
}
