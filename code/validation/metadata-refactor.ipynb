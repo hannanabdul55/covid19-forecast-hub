{
 "cells": [
  {
   "cell_type": "code",
   "execution_count": 1,
   "metadata": {},
   "outputs": [],
   "source": [
    "import yaml\n",
    "import pandas\n",
    "import numpy as np\n",
    "import os\n",
    "import glob"
   ]
  },
  {
   "cell_type": "code",
   "execution_count": 2,
   "metadata": {},
   "outputs": [],
   "source": [
    "metadatas = glob.glob(\"../../data-processed/**/metadata-*.txt\")"
   ]
  },
  {
   "cell_type": "code",
   "execution_count": 3,
   "metadata": {},
   "outputs": [],
   "source": [
    "for metadata in metadatas:\n",
    "    with open(metadata, 'r') as r:\n",
    "        meta = yaml.load(r, Loader=yaml.BaseLoader)\n",
    "        if 'team_abbr' in meta:\n",
    "            meta['model_abbr'] = '%s-%s'%(meta['team_abbr'], meta['model_abbr'])\n",
    "            if 'team_abbr' in meta:\n",
    "                del meta['team_abbr']\n",
    "            if 'this_model_is_an_ensemble' in meta:\n",
    "                del meta['this_model_is_an_ensemble']\n",
    "            print(meta)\n",
    "    with open(metadata, 'w') as w:\n",
    "        yaml.dump(meta, w)"
   ]
  },
  {
   "cell_type": "code",
   "execution_count": 4,
   "metadata": {},
   "outputs": [],
   "source": [
    "folder_names = list()\n",
    "for metadata in metadatas:\n",
    "    with open(metadata, 'r') as r:\n",
    "        meta = yaml.load(r, Loader=yaml.BaseLoader)\n",
    "        folder_name = metadata.split('metadata')[-1].strip('-').split('.')[0]\n",
    "#         print(f\"{folder_name!r}\")\n",
    "        folder_names.append(folder_name)"
   ]
  },
  {
   "cell_type": "code",
   "execution_count": null,
   "outputs": [],
   "source": [
    "from zoltpy import util\n",
    "from zoltpy.connection import ZoltarConnection\n",
    "from zoltpy.covid19 import COVID_TARGETS, COVID_ADDL_REQ_COLS, covid19_row_validator, validate_quantile_csv_file\n",
    "import os\n",
    "import sys\n",
    "\n",
    "# meta info\n",
    "project_name = 'COVID-19 Forecasts'\n",
    "project_obj = None\n",
    "project_timezeros = []\n",
    "conn = util.authenticate()\n",
    "url = 'https://github.com/reichlab/covid19-forecast-hub/tree/master/data-processed/'\n",
    "\n",
    "project_obj = [project for project in conn.projects if project.name == project_name][0]\n",
    "project_timezeros = [timezero.timezero_date for timezero in project_obj.timezeros]\n",
    "models = [model for model in project_obj.models]\n",
    "model_names = [model.abbreviation for model in models]"
   ],
   "metadata": {
    "collapsed": false,
    "pycharm": {
     "name": "#%%\n"
    }
   }
  },
  {
   "cell_type": "code",
   "execution_count": null,
   "outputs": [],
   "source": [
    "import pprint"
   ],
   "metadata": {
    "collapsed": false,
    "pycharm": {
     "name": "#%%\n"
    }
   }
  },
  {
   "cell_type": "code",
   "execution_count": null,
   "outputs": [],
   "source": [
    "pprint.pprint(model_names)"
   ],
   "metadata": {
    "collapsed": false,
    "pycharm": {
     "name": "#%%\n"
    }
   }
  },
  {
   "cell_type": "code",
   "execution_count": null,
   "outputs": [],
   "source": [
    "set(folder_names) ^ set(model_names)"
   ],
   "metadata": {
    "collapsed": false,
    "pycharm": {
     "name": "#%%\n"
    }
   }
  },
  {
   "cell_type": "code",
   "execution_count": 5,
   "metadata": {},
   "outputs": [],
   "source": []
  },
  {
   "cell_type": "code",
   "execution_count": 6,
   "metadata": {},
   "outputs": [],
   "source": [
    "import pprint"
   ]
  },
  {
   "cell_type": "code",
   "execution_count": 7,
   "metadata": {},
   "outputs": [
    {
     "name": "stdout",
     "output_type": "stream",
     "text": [
      "['epiforecasts-ensemble1',\n",
      " 'COVIDhub-ensemble',\n",
      " 'Columbia_UNC-SurvCon',\n",
      " 'IHME-CurveFit',\n",
      " 'NotreDame-mobility',\n",
      " 'YYG-ParamSearch',\n",
      " 'CovidAnalytics-DELPHI',\n",
      " 'UMass-MechBayes',\n",
      " 'CU-select',\n",
      " 'LANL-GrowthRate',\n",
      " 'QJHong-Encounter',\n",
      " 'RobertWalraven-ESG',\n",
      " 'COVIDhub-baseline',\n",
      " 'LNQ-ens1',\n",
      " 'USC-SI_kJalpha',\n",
      " 'CU-scenario_low',\n",
      " 'UMass-ExpertCrowd',\n",
      " 'MITCovAlliance-SIR',\n",
      " 'UMich-RidgeTfReg',\n",
      " 'UCLA-SuEIR',\n",
      " 'CU-scenario_mid',\n",
      " 'CU-scenario_high',\n",
      " 'UT-Mobility',\n",
      " 'CDDEP-SEIR_MCMC',\n",
      " 'UChicago-CovidIL_30_+',\n",
      " 'UChicago-CovidIL_10_+',\n",
      " 'Geneva-DetGrowth',\n",
      " 'UChicago-CovidIL',\n",
      " 'OliverWyman-Navigator',\n",
      " 'UA-EpiCovDA',\n",
      " 'JHU_IDD-CovidSP',\n",
      " 'PSI-DRAFT',\n",
      " 'Imperial-ensemble2',\n",
      " 'Quantori-Multiagents',\n",
      " 'UChicago-CovidIL_60',\n",
      " 'Imperial-ensemble1',\n",
      " 'UChicago-CovidIL_40',\n",
      " 'UChicago-CovidIL_80',\n",
      " 'Auquan-SEIR',\n",
      " 'NotreDame-FRED',\n",
      " 'USACE-ERDC_SEIR',\n",
      " 'CovidActNow-SEIR_CAN',\n",
      " 'IowaStateLW-STEM',\n",
      " 'GT-DeepCOVID',\n",
      " 'UChicago-CovidIL_100',\n",
      " 'CDDEP-ABM',\n",
      " 'STH-3PU',\n",
      " 'ISUandPKU-vSEIdR',\n",
      " 'SWC-TerminusCM',\n",
      " 'GT_CHHS-COVID19',\n",
      " 'MOBS-GLEAM_COVID',\n",
      " 'Covid19Sim-Simulator',\n",
      " 'CU-nochange']\n"
     ]
    }
   ],
   "source": [
    "pprint.pprint(model_names)"
   ]
  },
  {
   "cell_type": "code",
   "execution_count": 8,
   "metadata": {},
   "outputs": [
    {
     "data": {
      "text/plain": [
       "{'CDDEP-ABM'}"
      ]
     },
     "execution_count": 8,
     "metadata": {},
     "output_type": "execute_result"
    }
   ],
   "source": [
    "set(folder_names) ^ set(model_names)"
   ]
  },
  {
   "cell_type": "code",
   "execution_count": null,
   "metadata": {},
   "outputs": [],
   "source": []
  }
 ],
 "metadata": {
  "kernelspec": {
   "display_name": "Python 3",
   "language": "python",
   "name": "python3"
  },
  "language_info": {
   "codemirror_mode": {
    "name": "ipython",
    "version": 3
   },
   "file_extension": ".py",
   "mimetype": "text/x-python",
   "name": "python",
   "nbconvert_exporter": "python",
   "pygments_lexer": "ipython3",
   "version": "3.7.5"
  }
 },
 "nbformat": 4,
 "nbformat_minor": 4
}